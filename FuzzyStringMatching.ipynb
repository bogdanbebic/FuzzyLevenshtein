{
  "nbformat": 4,
  "nbformat_minor": 0,
  "metadata": {
    "colab": {
      "name": "FuzzyProjekat",
      "provenance": [],
      "collapsed_sections": []
    },
    "kernelspec": {
      "name": "python3",
      "display_name": "Python 3"
    }
  },
  "cells": [
    {
      "cell_type": "markdown",
      "metadata": {
        "id": "TJn0heItXXQB",
        "colab_type": "text"
      },
      "source": [
        "# Fuzzy string matching\n",
        "\n",
        "U računarskim naukama, približno poklapanje niza ili reči (često kolokvijalno nazivano fuzzy pretraživanjem) je tehnika pronalaska nizova ili reči koje približno odgovaraju (a ne egzaktno) obrascu. Problem približnog poklapanja niza obično se deli na dva potproblema: pronalaženje približnih podudaranja podvrsta unutar određenog niza i pronalaženje nizova iz rečnika koji približno odgovaraju obrascu. Implementiran je prvi potproblem.\n"
      ]
    },
    {
      "cell_type": "markdown",
      "metadata": {
        "id": "ACdRM6xaYM_l",
        "colab_type": "text"
      },
      "source": [
        "## Levenshtein distance\n",
        "\n",
        "U lingvistici i računarskoj nauci, Levenštajnova udaljenost je metrika za izračunavanje razlike između dva niza. Neformalno, Levenštajnova udaljenost između dve reči je najmanji broj izmena s jednim znakom (umetanja, brisanja ili zamene) potrebnih za promenu jedne reči u drugu. Ime je dobila po sovjetskom matematičaru Vladimiru Levenštajnu, koji je razmatrao ovaj način računanja udaljenosti 1965. godine.\n",
        "\n",
        "\n",
        "---\n",
        "\n",
        "![alt text](https://github.com/bogdanbebic/FuzzyLevenshtein/blob/master/lev_dark.jpg?raw=true)"
      ]
    },
    {
      "cell_type": "code",
      "metadata": {
        "id": "zmO_vB4ba-9v",
        "colab_type": "code",
        "colab": {}
      },
      "source": [
        "import numpy as np\n",
        "\n",
        "\n",
        "def calculate_levenshtein_distance(str1, str2):\n",
        "    rows = len(str1) + 1\n",
        "    cols = len(str2) + 1\n",
        "    distance = np.zeros((rows, cols), dtype=int)\n",
        "\n",
        "    for i in range(1, rows):\n",
        "        for j in range(1, cols):\n",
        "            distance[i][0] = i\n",
        "            distance[0][j] = j\n",
        "  \n",
        "    for row in range(1, rows):\n",
        "        for col in range(1, cols):\n",
        "            if str1[row - 1] == str2[col - 1]:\n",
        "                cost = 0\n",
        "            else:\n",
        "                cost = 1\n",
        "            distance[row][col] = min(distance[row-1][col] + 1,      # Cost of deletions\n",
        "                                 distance[row][col-1] + 1,          # Cost of insertions\n",
        "                                 distance[row-1][col-1] + cost)     # Cost of substitutions\n",
        "    \n",
        "    return distance[row][col]\n"
      ],
      "execution_count": 0,
      "outputs": []
    },
    {
      "cell_type": "markdown",
      "metadata": {
        "id": "KXI19IPAbRh1",
        "colab_type": "text"
      },
      "source": [
        "![Lev distance algorithm](https://github.com/bogdanbebic/FuzzyLevenshtein/blob/master/lev_matrix_dark.jpg?raw=true)"
      ]
    },
    {
      "cell_type": "markdown",
      "metadata": {
        "id": "hp_cqUyHZj-3",
        "colab_type": "text"
      },
      "source": [
        "## Levenshtein ratio\n",
        "\n",
        "Levenštajnov odnos se izračunava po sledećoj formuli i predstavlja procentualnu metriku sličnosti dva niza ili reči."
      ]
    },
    {
      "cell_type": "code",
      "metadata": {
        "id": "OqpHPRzBc1fe",
        "colab_type": "code",
        "colab": {}
      },
      "source": [
        "def calculate_levenshtein_ratio(str1, str2):\n",
        "    distance = calculate_levenshtein_distance(str1, str2)\n",
        "    return (len(str1) + len(str2) - distance) / (len(str1) + len(str2))\n"
      ],
      "execution_count": 0,
      "outputs": []
    },
    {
      "cell_type": "markdown",
      "metadata": {
        "id": "LYikVw8PbGav",
        "colab_type": "text"
      },
      "source": [
        "## Neki test primeri"
      ]
    },
    {
      "cell_type": "code",
      "metadata": {
        "id": "1zxcGdVVgB_c",
        "colab_type": "code",
        "outputId": "8eabc28e-15c0-46bf-ef14-8fc661cbc288",
        "colab": {
          "base_uri": "https://localhost:8080/",
          "height": 221
        }
      },
      "source": [
        "test_examples = [\n",
        "    (\"Saturday\", \"Sunday\"), \n",
        "    (\"Apple inc.\", \"apple Inc\"), \n",
        "    (\"13S053NM Neuralne mreže (SI)\", \"13E054NM Neuralne mreže\")\n",
        "]\n",
        "\n",
        "for str1, str2 in test_examples:\n",
        "    distance = calculate_levenshtein_distance(str1, str2)\n",
        "    print(f'Edit distance for \"{str1}\" and \"{str2}\": {distance}')\n",
        "    ratio = calculate_levenshtein_ratio(str1, str2)\n",
        "    print(f'Levenshtein ratio for \"{str1}\" and \"{str2}\":\\n{ratio}\\n')\n"
      ],
      "execution_count": 0,
      "outputs": [
        {
          "output_type": "stream",
          "text": [
            "Edit distance for \"Saturday\" and \"Sunday\": 3\n",
            "Levenshtein ratio for \"Saturday\" and \"Sunday\":\n",
            "0.7857142857142857\n",
            "\n",
            "Edit distance for \"Apple inc.\" and \"apple Inc\": 3\n",
            "Levenshtein ratio for \"Apple inc.\" and \"apple Inc\":\n",
            "0.8421052631578947\n",
            "\n",
            "Edit distance for \"13S053NM Neuralne mreže (SI)\" and \"13E054NM Neuralne mreže\": 7\n",
            "Levenshtein ratio for \"13S053NM Neuralne mreže (SI)\" and \"13E054NM Neuralne mreže\":\n",
            "0.8627450980392157\n",
            "\n"
          ],
          "name": "stdout"
        }
      ]
    },
    {
      "cell_type": "code",
      "metadata": {
        "id": "mr3yXEPZTmMT",
        "colab_type": "code",
        "outputId": "4f6519e3-8965-4d0e-989c-90cd31d50543",
        "colab": {
          "base_uri": "https://localhost:8080/",
          "height": 221
        }
      },
      "source": [
        "str1 = \"Saturday\"\n",
        "str2 = \"Sunday\"\n",
        "distance = calculate_levenshtein_distance(str1, str2)\n",
        "print(f'Edit distance for \"{str1}\" and \"{str2}\": {distance}')\n",
        "ratio = calculate_levenshtein_ratio(str1, str2)\n",
        "print(f'Levenshtein ratio for \"{str1}\" and \"{str2}\":\\n{ratio}\\n')\n",
        "\n",
        "str1 = \"Apple inc.\"\n",
        "str2 = \"apple Inc\"\n",
        "distance = calculate_levenshtein_distance(str1, str2)\n",
        "print(f'Edit distance for \"{str1}\" and \"{str2}\": {distance}')\n",
        "ratio = calculate_levenshtein_ratio(str1, str2)\n",
        "print(f'Levenshtein ratio for \"{str1}\" and \"{str2}\":\\n{ratio}\\n')\n",
        "\n",
        "str1 = \"13S053NM Neuralne mreže (SI)\"\n",
        "str2 = \"13E054NM Neuralne mreže\"\n",
        "distance = calculate_levenshtein_distance(str1, str2)\n",
        "print(f'Edit distance for \"{str1}\" and \"{str2}\": {distance}')\n",
        "ratio = calculate_levenshtein_ratio(str1, str2)\n",
        "print(f'Levenshtein ratio for \"{str1}\" and \"{str2}\":\\n{ratio}\\n')\n",
        "\n"
      ],
      "execution_count": 0,
      "outputs": [
        {
          "output_type": "stream",
          "text": [
            "Edit distance for \"Saturday\" and \"Sunday\": 3\n",
            "Levenshtein ratio for \"Saturday\" and \"Sunday\":\n",
            "0.7857142857142857\n",
            "\n",
            "Edit distance for \"Apple inc.\" and \"apple Inc\": 3\n",
            "Levenshtein ratio for \"Apple inc.\" and \"apple Inc\":\n",
            "0.8421052631578947\n",
            "\n",
            "Edit distance for \"13S053NM Neuralne mreže (SI)\" and \"13E054NM Neuralne mreže\": 7\n",
            "Levenshtein ratio for \"13S053NM Neuralne mreže (SI)\" and \"13E054NM Neuralne mreže\":\n",
            "0.8627450980392157\n",
            "\n"
          ],
          "name": "stdout"
        }
      ]
    },
    {
      "cell_type": "markdown",
      "metadata": {
        "id": "5sptYkXHgpU0",
        "colab_type": "text"
      },
      "source": [
        "## Primena za fuzzy string matching\n",
        "\n",
        "Fuzzy string matching ima široku primenu u svim poljima softverskog inženjerstva koji rade sa prirodnim jezicima. Naime, ljudi često greše dok kucaju, pa je potrebno prepoznati ne samo tačno otkucane, već i približno tačno otkucane reči (fuzzyness) - razni spell checker-i i autocorrect-ovi, Google pretraga i autocomplete reči.\n",
        "\n",
        "Na sledećem grafiku je prikazana prosečna Levenštajnova udaljenost kao funkcija od relativne pozicije u rečima za prepoznavanje grešaka u kucanju za tačno klasifikovane, pogrešno klasifikovane i normalizovane podatke.\n",
        "\n",
        "\n",
        "![alt text](https://www.researchgate.net/profile/Abeed_Sarker/publication/325575544/figure/fig3/AS:634165225590785@1528208180222/Distribution-of-misspelling-frequencies-against-levenshtein-distance-illustrating-that.png)"
      ]
    }
  ]
}